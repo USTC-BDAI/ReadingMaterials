{
 "cells": [
  {
   "cell_type": "code",
   "execution_count": 1,
   "id": "f1f1c89c",
   "metadata": {},
   "outputs": [],
   "source": [
    "# author: Yanshun Zhao\n",
    "# create at 2023.11.13\n",
    "# email: 2679466736@qq.com"
   ]
  },
  {
   "cell_type": "code",
   "execution_count": 1,
   "id": "7bb9a9ca",
   "metadata": {},
   "outputs": [],
   "source": [
    "import numpy as np\n",
    "import matplotlib.pyplot as plt"
   ]
  },
  {
   "cell_type": "markdown",
   "id": "be52fd27",
   "metadata": {},
   "source": [
    "# 定义区域"
   ]
  },
  {
   "cell_type": "code",
   "execution_count": 2,
   "id": "d50721ba",
   "metadata": {},
   "outputs": [],
   "source": [
    "h=0.1 #空间步长\n",
    "t_len=0.002*np.pi#时间步长\n",
    "T_len=[0,np.pi/2] #时间\n",
    "X_len=[-5,5]#空间"
   ]
  },
  {
   "cell_type": "markdown",
   "id": "8bb2e321",
   "metadata": {},
   "source": [
    "# 初值"
   ]
  },
  {
   "cell_type": "code",
   "execution_count": 3,
   "id": "c6321f40",
   "metadata": {},
   "outputs": [],
   "source": [
    "def f(x):\n",
    "    return 4/(np.exp(x)+np.exp(-x))"
   ]
  },
  {
   "cell_type": "code",
   "execution_count": 4,
   "id": "02d1e53e",
   "metadata": {},
   "outputs": [],
   "source": [
    "#生成解的网格\n",
    "U=np.zeros([int((X_len[1]-X_len[0])/h)+1,int((T_len[1]-T_len[0])/t_len)+1])\n",
    "V=np.zeros([int((X_len[1]-X_len[0])/h)+1,int((T_len[1]-T_len[0])/t_len)+1])\n",
    "for i in range(len(U)): #第一层为初值\n",
    "    U[i][0]=f(-5+i*h)"
   ]
  },
  {
   "cell_type": "markdown",
   "id": "406711d3",
   "metadata": {},
   "source": [
    "# 有限元矩阵"
   ]
  },
  {
   "cell_type": "code",
   "execution_count": 5,
   "id": "71e166b1",
   "metadata": {},
   "outputs": [],
   "source": [
    "def finite(h):\n",
    "    A=np.zeros([int((X_len[1]-X_len[0])/h)+1,int((X_len[1]-X_len[0])/h)+1])\n",
    "    B=np.zeros([int((X_len[1]-X_len[0])/h)+1,int((X_len[1]-X_len[0])/h)+1])\n",
    "    A[0][0],A[0][1]=3/4*h,0.5*h\n",
    "    A[int((X_len[1]-X_len[0])/h)][int((X_len[1]-X_len[0])/h)-1],A[int((X_len[1]-X_len[0])/h)][int((X_len[1]-X_len[0])/h)]=0.5*h,3/4*h\n",
    "    B[0][0],B[0][1]=np.pi*np.pi/(4*h),-np.pi*np.pi/(8*h)\n",
    "    B[int((X_len[1]-X_len[0])/h)][int((X_len[1]-X_len[0])/h)-1],B[int((X_len[1]-X_len[0])/h)][int((X_len[1]-X_len[0])/h)]=-np.pi*np.pi/(8*h),np.pi*np.pi/(4*h)\n",
    "    for i in range(1,int((X_len[1]-X_len[0])/h)):\n",
    "        A[i][i]=3/4*h\n",
    "        A[i][i-1],A[i][i+1]=0.5*h,0.5*h\n",
    "        B[i][i]=np.pi*np.pi/(4*h)\n",
    "        B[i][i-1],B[i][i+1]=-np.pi*np.pi/(8*h),-np.pi*np.pi/(8*h)\n",
    "    return A,B"
   ]
  },
  {
   "cell_type": "markdown",
   "id": "31a63357",
   "metadata": {},
   "source": [
    "# backeuler求解"
   ]
  },
  {
   "cell_type": "code",
   "execution_count": 6,
   "id": "da826f90",
   "metadata": {},
   "outputs": [],
   "source": [
    "A,B=finite(h)\n",
    "for i in range(1,int((T_len[1]-T_len[0])/t_len)+1):\n",
    "    a=pow(U[:,i-1],2)+pow(V[:,i-1],2)\n",
    "    a_f=np.eye(len(a))\n",
    "    for j in range(len(a)):\n",
    "        a_f[j][j]=a[j]\n",
    "    A_f=A@a_f\n",
    "    bias1=A@V[:,i-1]\n",
    "    bias2=A@U[:,i-1]\n",
    "    S=t_len/2*B-t_len*A_f\n",
    "    A_=np.linalg.inv(A)\n",
    "    V[:,i]=np.linalg.inv(A+S@A_@S)@(bias1-S@A_@bias2)\n",
    "    U[:,i]=A_@(S@V[:,i]+bias2)"
   ]
  },
  {
   "cell_type": "code",
   "execution_count": 7,
   "id": "8d39b057",
   "metadata": {},
   "outputs": [
    {
     "name": "stderr",
     "output_type": "stream",
     "text": [
      "C:\\Users\\赵延顺\\AppData\\Local\\Temp\\ipykernel_9344\\2209969749.py:11: UserWarning: Matplotlib is currently using module://matplotlib_inline.backend_inline, which is a non-GUI backend, so cannot show the figure.\n",
      "  fig.show()\n"
     ]
    },
    {
     "data": {
      "image/png": "[encoded data removed]",
      "text/plain": [
       "<Figure size 1152x288 with 2 Axes>"
      ]
     },
     "metadata": {
      "needs_background": "light"
     },
     "output_type": "display_data"
    }
   ],
   "source": [
    "plt.rcParams['figure.figsize'] = (16,4)\n",
    "y_grid = np.linspace(start=X_len[0], stop=X_len[1], num=int((X_len[1]-X_len[0])/h)+1, endpoint=True).reshape(-1, 1).repeat(int((T_len[1]-T_len[0])/t_len)+1, axis=1)\n",
    "x_grid = np.linspace(start=T_len[0], stop=T_len[1], num=int((T_len[1]-T_len[0])/t_len)+1, endpoint=True).reshape(1, -1).repeat(int((X_len[1]-X_len[0])/h)+1, axis=0)\n",
    "grid = np.stack((x_grid, y_grid), axis=2)\n",
    "\n",
    "fig, ax = plt.subplots()\n",
    "im = ax.pcolor(grid[:, :, 0], grid[:, :, 1], np.sqrt(pow(U,2)+pow(V,2)), cmap=\"Spectral\")\n",
    "plt.title('|h|')\n",
    "fig.colorbar(im)\n",
    "\n",
    "fig.show()"
   ]
  },
  {
   "cell_type": "code",
   "execution_count": null,
   "id": "a2384aa2",
   "metadata": {},
   "outputs": [],
   "source": []
  }
 ],
 "metadata": {
  "kernelspec": {
   "display_name": "Python 3 (ipykernel)",
   "language": "python",
   "name": "python3"
  },
  "language_info": {
   "codemirror_mode": {
    "name": "ipython",
    "version": 3
   },
   "file_extension": ".py",
   "mimetype": "text/x-python",
   "name": "python",
   "nbconvert_exporter": "python",
   "pygments_lexer": "ipython3",
   "version": "3.9.12"
  }
 },
 "nbformat": 4,
 "nbformat_minor": 5
}
